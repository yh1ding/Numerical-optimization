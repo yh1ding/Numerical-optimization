{
  "nbformat": 4,
  "nbformat_minor": 0,
  "metadata": {
    "colab": {
      "name": "Project subgradient for L1 minimization.ipynb",
      "provenance": [],
      "collapsed_sections": []
    },
    "kernelspec": {
      "name": "python3",
      "display_name": "Python 3"
    }
  },
  "cells": [
    {
      "cell_type": "markdown",
      "metadata": {
        "id": "bfKTTG0uuKBK"
      },
      "source": [
        "**Projected subgradient for L1 minimization**\n",
        "\n",
        "This code implemented algorithm 2.2 on page 60 of the book 'High-Dimensional Data Analysis with Low-Dimensional Models: Principles, Computation, and Applications' by JOHN WRIGHT and YI MA "
      ]
    },
    {
      "cell_type": "code",
      "metadata": {
        "id": "rVNMEznjExVL"
      },
      "source": [
        "import numpy as np\n",
        "import random\n",
        "n=100\n",
        "m=n/2\n",
        "\n",
        "def PSG(A,y,Gamma,xbar,n_iter=100000, eps=0.000001):\n",
        "  L0_norm=0\n",
        "  x=np.zeros(xbar.shape)\n",
        "  for i in range(n_iter):\n",
        "    x_new=xbar+np.dot(Gamma,(x-1/(i+1)*np.sign(x)))\n",
        "    if np.linalg.norm(x-x_new)<=eps:\n",
        "      # print('Done')\n",
        "      for j in range(len(x_new)):\n",
        "        if x_new[j]>=0.001:\n",
        "          L0_norm=L0_norm+1\n",
        "      # print('L0_norm is %d' % L0_norm)\n",
        "      break\n",
        "    x=x_new\n",
        "  return x\n",
        "\n",
        "\n",
        "def myexperiment(n,m,k,Num_sample=50):\n",
        "  succed=0\n",
        "  for i in range(Num_sample):\n",
        "    L0_norm=0\n",
        "    A=np.random.rand(np.int(m),np.int(n))\n",
        "    x0=np.random.rand(np.int(n),1)\n",
        "    sampled_list = random.sample(range(np.int(n)), np.int(n-k))\n",
        "    for i in iter(sampled_list):\n",
        "      x0[i]=0\n",
        "    y=np.dot(A,x0)\n",
        "    Gamma = np.identity(np.int(n)) - np.dot(np.transpose(A), np.dot(( np.linalg.inv(np.dot(A,np.transpose(A)))) ,A))\n",
        "    xbar  = np.dot( np.dot(np.transpose(A),np.linalg.inv(np.dot(A,np.transpose(A)))), y)\n",
        "    x = PSG(A,y,Gamma,xbar,n_iter=100000, eps=0.001)\n",
        "    for j in range(len(x)):\n",
        "      if x[j]>=0.001:\n",
        "        L0_norm=L0_norm+1\n",
        "    if np.linalg.norm(x-x0)<=0.01:\n",
        "      succed=succed+1\n",
        "  print(succed)\n",
        "  return succed\n",
        "\n",
        "success_set=[]\n",
        "for k in range(n):\n",
        "  success_set.append(myexperiment(n,m,k))"
      ],
      "execution_count": null,
      "outputs": []
    },
    {
      "cell_type": "code",
      "metadata": {
        "id": "18MBjevjZyFL",
        "outputId": "7f532535-ee8a-4aa7-daac-7e0165370ceb",
        "colab": {
          "base_uri": "https://localhost:8080/",
          "height": 295
        }
      },
      "source": [
        "import matplotlib.pyplot as plt\n",
        "k = np.arange(0 , n, 1)\n",
        "success_set[:] = [x/50 for x in success_set]\n",
        "\n",
        "fig, ax = plt.subplots()\n",
        "ax.plot(k, success_set)\n",
        "ax.set(xlabel='k', ylabel='Success rate',\n",
        "       title='Success rate of L1 minimization')\n",
        "ax.grid()\n",
        "\n",
        "fig.savefig(\"test.png\")\n",
        "plt.show()"
      ],
      "execution_count": 20,
      "outputs": [
        {
          "output_type": "display_data",
          "data": {
            "image/png": "[encoded data removed]",
            "text/plain": [
              "<Figure size 432x288 with 1 Axes>"
            ]
          },
          "metadata": {
            "tags": [],
            "needs_background": "light"
          }
        }
      ]
    }
  ]
}